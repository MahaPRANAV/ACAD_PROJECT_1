{
 "cells": [
  {
   "cell_type": "code",
   "execution_count": 13,
   "metadata": {
    "collapsed": true
   },
   "outputs": [],
   "source": [
    "import sqlite3\n",
    "import pandas as pd\n",
    "import numpy as np\n",
    "from sklearn import tree, metrics, model_selection, preprocessing\n",
    "from sklearn.model_selection import KFold,cross_val_score ,cross_val_predict\n",
    "from IPython.display import Image, display\n",
    "from sklearn.model_selection import train_test_split\n",
    "from sklearn.metrics import r2_score\n",
    "from math import sqrt\n",
    "from matplotlib import pyplot as plt\n",
    "%matplotlib inline  "
   ]
  },
  {
   "cell_type": "code",
   "execution_count": 15,
   "metadata": {
    "collapsed": true
   },
   "outputs": [],
   "source": [
    "cnx = sqlite3.connect('C:\\MAHA\\ACAD\\database.sqlite') # Download data from local \n",
    "PlayerAttrib = pd.read_sql_query(\"Select * from Player_Attributes\",cnx) \n",
    "\n",
    "pd.set_option('display.max_columns', None) \n",
    "pd.set_option('display.max_rows', 100)\n",
    "\n"
   ]
  },
  {
   "cell_type": "code",
   "execution_count": 16,
   "metadata": {},
   "outputs": [
    {
     "name": "stdout",
     "output_type": "stream",
     "text": [
      "   id  player_fifa_api_id  player_api_id                 date  overall_rating  \\\n",
      "0   1              218353         505942  2016-02-18 00:00:00            67.0   \n",
      "1   2              218353         505942  2015-11-19 00:00:00            67.0   \n",
      "2   3              218353         505942  2015-09-21 00:00:00            62.0   \n",
      "3   4              218353         505942  2015-03-20 00:00:00            61.0   \n",
      "4   5              218353         505942  2007-02-22 00:00:00            61.0   \n",
      "\n",
      "   potential preferred_foot attacking_work_rate defensive_work_rate  crossing  \\\n",
      "0       71.0          right              medium              medium      49.0   \n",
      "1       71.0          right              medium              medium      49.0   \n",
      "2       66.0          right              medium              medium      49.0   \n",
      "3       65.0          right              medium              medium      48.0   \n",
      "4       65.0          right              medium              medium      48.0   \n",
      "\n",
      "   finishing  heading_accuracy  short_passing  volleys  dribbling  curve  \\\n",
      "0       44.0              71.0           61.0     44.0       51.0   45.0   \n",
      "1       44.0              71.0           61.0     44.0       51.0   45.0   \n",
      "2       44.0              71.0           61.0     44.0       51.0   45.0   \n",
      "3       43.0              70.0           60.0     43.0       50.0   44.0   \n",
      "4       43.0              70.0           60.0     43.0       50.0   44.0   \n",
      "\n",
      "   free_kick_accuracy  long_passing  ball_control  acceleration  sprint_speed  \\\n",
      "0                39.0          64.0          49.0          60.0          64.0   \n",
      "1                39.0          64.0          49.0          60.0          64.0   \n",
      "2                39.0          64.0          49.0          60.0          64.0   \n",
      "3                38.0          63.0          48.0          60.0          64.0   \n",
      "4                38.0          63.0          48.0          60.0          64.0   \n",
      "\n",
      "   agility  reactions  balance  shot_power  jumping  stamina  strength  \\\n",
      "0     59.0       47.0     65.0        55.0     58.0     54.0      76.0   \n",
      "1     59.0       47.0     65.0        55.0     58.0     54.0      76.0   \n",
      "2     59.0       47.0     65.0        55.0     58.0     54.0      76.0   \n",
      "3     59.0       46.0     65.0        54.0     58.0     54.0      76.0   \n",
      "4     59.0       46.0     65.0        54.0     58.0     54.0      76.0   \n",
      "\n",
      "   long_shots  aggression  interceptions  positioning  vision  penalties  \\\n",
      "0        35.0        71.0           70.0         45.0    54.0       48.0   \n",
      "1        35.0        71.0           70.0         45.0    54.0       48.0   \n",
      "2        35.0        63.0           41.0         45.0    54.0       48.0   \n",
      "3        34.0        62.0           40.0         44.0    53.0       47.0   \n",
      "4        34.0        62.0           40.0         44.0    53.0       47.0   \n",
      "\n",
      "   marking  standing_tackle  sliding_tackle  gk_diving  gk_handling  \\\n",
      "0     65.0             69.0            69.0        6.0         11.0   \n",
      "1     65.0             69.0            69.0        6.0         11.0   \n",
      "2     65.0             66.0            69.0        6.0         11.0   \n",
      "3     62.0             63.0            66.0        5.0         10.0   \n",
      "4     62.0             63.0            66.0        5.0         10.0   \n",
      "\n",
      "   gk_kicking  gk_positioning  gk_reflexes  \n",
      "0        10.0             8.0          8.0  \n",
      "1        10.0             8.0          8.0  \n",
      "2        10.0             8.0          8.0  \n",
      "3         9.0             7.0          7.0  \n",
      "4         9.0             7.0          7.0  \n",
      "Dataframe PlayerAttribute Shape\n",
      "(183978, 42)\n",
      "Dataframe PlayerAttribute Size\n",
      "7727076\n",
      "Dataframe PlayerAttribute Columns\n",
      "Index(['id', 'player_fifa_api_id', 'player_api_id', 'date', 'overall_rating',\n",
      "       'potential', 'preferred_foot', 'attacking_work_rate',\n",
      "       'defensive_work_rate', 'crossing', 'finishing', 'heading_accuracy',\n",
      "       'short_passing', 'volleys', 'dribbling', 'curve', 'free_kick_accuracy',\n",
      "       'long_passing', 'ball_control', 'acceleration', 'sprint_speed',\n",
      "       'agility', 'reactions', 'balance', 'shot_power', 'jumping', 'stamina',\n",
      "       'strength', 'long_shots', 'aggression', 'interceptions', 'positioning',\n",
      "       'vision', 'penalties', 'marking', 'standing_tackle', 'sliding_tackle',\n",
      "       'gk_diving', 'gk_handling', 'gk_kicking', 'gk_positioning',\n",
      "       'gk_reflexes'],\n",
      "      dtype='object')\n",
      "Dataframe PlayerAttribute Summary\n",
      "<class 'pandas.core.frame.DataFrame'>\n",
      "RangeIndex: 183978 entries, 0 to 183977\n",
      "Data columns (total 42 columns):\n",
      "id                     183978 non-null int64\n",
      "player_fifa_api_id     183978 non-null int64\n",
      "player_api_id          183978 non-null int64\n",
      "date                   183978 non-null object\n",
      "overall_rating         183142 non-null float64\n",
      "potential              183142 non-null float64\n",
      "preferred_foot         183142 non-null object\n",
      "attacking_work_rate    180748 non-null object\n",
      "defensive_work_rate    183142 non-null object\n",
      "crossing               183142 non-null float64\n",
      "finishing              183142 non-null float64\n",
      "heading_accuracy       183142 non-null float64\n",
      "short_passing          183142 non-null float64\n",
      "volleys                181265 non-null float64\n",
      "dribbling              183142 non-null float64\n",
      "curve                  181265 non-null float64\n",
      "free_kick_accuracy     183142 non-null float64\n",
      "long_passing           183142 non-null float64\n",
      "ball_control           183142 non-null float64\n",
      "acceleration           183142 non-null float64\n",
      "sprint_speed           183142 non-null float64\n",
      "agility                181265 non-null float64\n",
      "reactions              183142 non-null float64\n",
      "balance                181265 non-null float64\n",
      "shot_power             183142 non-null float64\n",
      "jumping                181265 non-null float64\n",
      "stamina                183142 non-null float64\n",
      "strength               183142 non-null float64\n",
      "long_shots             183142 non-null float64\n",
      "aggression             183142 non-null float64\n",
      "interceptions          183142 non-null float64\n",
      "positioning            183142 non-null float64\n",
      "vision                 181265 non-null float64\n",
      "penalties              183142 non-null float64\n",
      "marking                183142 non-null float64\n",
      "standing_tackle        183142 non-null float64\n",
      "sliding_tackle         181265 non-null float64\n",
      "gk_diving              183142 non-null float64\n",
      "gk_handling            183142 non-null float64\n",
      "gk_kicking             183142 non-null float64\n",
      "gk_positioning         183142 non-null float64\n",
      "gk_reflexes            183142 non-null float64\n",
      "dtypes: float64(35), int64(3), object(4)\n",
      "memory usage: 59.0+ MB\n",
      "None\n"
     ]
    }
   ],
   "source": [
    "print(PlayerAttrib.head())  # View the Header and Dataframe Structure\n",
    "print(\"Dataframe PlayerAttribute Shape\")\n",
    "print(PlayerAttrib.shape) \n",
    "print(\"Dataframe PlayerAttribute Size\")\n",
    "print(PlayerAttrib.size)   # View the Size\n",
    "print(\"Dataframe PlayerAttribute Columns\")\n",
    "print(PlayerAttrib.columns) # View Columns\n",
    "print(\"Dataframe PlayerAttribute Summary\")\n",
    "print(PlayerAttrib.info())  # View Summary"
   ]
  },
  {
   "cell_type": "code",
   "execution_count": 3,
   "metadata": {},
   "outputs": [
    {
     "name": "stdout",
     "output_type": "stream",
     "text": [
      "(25000, 61)\n",
      "(25000,)\n",
      "(20000, 61)\n",
      "(5000, 61)\n",
      "(20000,)\n",
      "(5000,)\n"
     ]
    }
   ],
   "source": [
    "############################### PREPROCESSING ###########################################\n",
    "############ One hot Encoding \n",
    "preferred_foot_oh = pd.get_dummies(PlayerAttrib['preferred_foot'], prefix='enc')\n",
    "PlayerAttrib[preferred_foot_oh.columns] = preferred_foot_oh\n",
    "attacking_work_rate_oh = pd.get_dummies(PlayerAttrib['attacking_work_rate'], prefix='enc')\n",
    "PlayerAttrib[attacking_work_rate_oh.columns] = attacking_work_rate_oh\n",
    "defensive_work_rate_oh = pd.get_dummies(PlayerAttrib['defensive_work_rate'], prefix='enc')\n",
    "PlayerAttrib[defensive_work_rate_oh.columns] = defensive_work_rate_oh\n",
    "\n",
    "# Creating a new DF for onl Selected Attribtes for Regression \n",
    "SelPlayerAttrib = PlayerAttrib.drop(['id','player_fifa_api_id','player_api_id','date','preferred_foot',\n",
    "'attacking_work_rate','defensive_work_rate' ],axis=1)\n",
    "\n",
    "# Removing rows with Null(NaN and Infinite) Values For the Selected Player Attributes\n",
    "\n",
    "SelPlayerAttrib = SelPlayerAttrib[(SelPlayerAttrib.overall_rating >= 0) & (SelPlayerAttrib.potential >= 0) & \n",
    "(SelPlayerAttrib.crossing >= 0) & (SelPlayerAttrib.finishing >= 0) & (SelPlayerAttrib.heading_accuracy >= 0) &\n",
    "       (SelPlayerAttrib.short_passing >= 0) & (SelPlayerAttrib.volleys >= 0) & (SelPlayerAttrib.dribbling >= 0) &\n",
    "       (SelPlayerAttrib.curve >= 0) & (SelPlayerAttrib.free_kick_accuracy >= 0) & (SelPlayerAttrib.long_passing >= 0) &\n",
    "       (SelPlayerAttrib.ball_control >= 0) & (SelPlayerAttrib.acceleration >= 0) & (SelPlayerAttrib.sprint_speed >= 0) &\n",
    "       (SelPlayerAttrib.agility >= 0) & (SelPlayerAttrib.reactions >= 0) & (SelPlayerAttrib.balance >= 0) &\n",
    "       (SelPlayerAttrib.shot_power >= 0) & (SelPlayerAttrib.jumping >= 0) & (SelPlayerAttrib.stamina >= 0) &\n",
    "       (SelPlayerAttrib.strength >= 0) & (SelPlayerAttrib.long_shots >= 0) & (SelPlayerAttrib.aggression >= 0) &\n",
    "       (SelPlayerAttrib.interceptions >= 0) & (SelPlayerAttrib.positioning >= 0) & (SelPlayerAttrib.vision >= 0) &\n",
    "       (SelPlayerAttrib.penalties >= 0) & (SelPlayerAttrib.marking >= 0) & (SelPlayerAttrib.standing_tackle >= 0) &\n",
    "       (SelPlayerAttrib.sliding_tackle >= 0) & (SelPlayerAttrib.gk_diving >= 0) & (SelPlayerAttrib.gk_handling >= 0) &\n",
    "       (SelPlayerAttrib.gk_kicking >= 0) & (SelPlayerAttrib.gk_positioning >= 0) & (SelPlayerAttrib.gk_reflexes >= 0)\n",
    "]\n",
    "\n",
    "\n",
    "# Creating a New DF to seperate Features , target\n",
    "Features = SelPlayerAttrib1.drop('overall_rating',axis = 1)\n",
    "Target =   SelPlayerAttrib1.overall_rating\n",
    "print(Features.shape)\n",
    "print(Target.shape)\n",
    "\n",
    "\n",
    "# Split The Training and Test Data in 80% - 20%  corresondingly\n",
    "Features_train,Features_test,Target_train,Target_test = train_test_split(Features,Target,test_size=0.20)\n",
    "print(Features_train.shape)\n",
    "print(Features_test.shape)\n",
    "print(Target_train.shape)\n",
    "print(Target_test.shape)\n",
    "\n",
    "\n"
   ]
  },
  {
   "cell_type": "code",
   "execution_count": 5,
   "metadata": {},
   "outputs": [
    {
     "name": "stdout",
     "output_type": "stream",
     "text": [
      " Training MSE/ Score 0.9993713932141581\n",
      " Testing MSE /Score 0.960625659801428\n"
     ]
    }
   ],
   "source": [
    "###################################### Building Decesion Tree Model ####################################\n",
    "dtree = tree.DecisionTreeRegressor()\n",
    "dtreefit = dtree.fit(Features_train, Target_train)\n",
    "\n",
    "pred_test = dtree.predict(Features_test)\n",
    "\n",
    "Score_train = dtreefit.score(Features_train, Target_train)\n",
    "Score_test  = dtreefit.score(Features_test, Target_test)\n",
    "\n",
    "print(\" Training MSE/ Score {}\".format(Score_train))\n",
    "print(\" Testing MSE /Score {}\".format(Score_test))\n",
    "\n",
    "\n"
   ]
  },
  {
   "cell_type": "code",
   "execution_count": 10,
   "metadata": {},
   "outputs": [
    {
     "name": "stdout",
     "output_type": "stream",
     "text": [
      "Mean Cross Validation score on Trainin Set: 0.9552596289522464\n",
      " score on Test Set: 0.960625659801428\n",
      " R2 Score test  0.960625659801\n"
     ]
    }
   ],
   "source": [
    "############################### Using CV Leave one out since the Training Data Score is higher than test Data (Overfitting)\n",
    "dtcv_scores = cross_val_score(dtree, Features_train, Target_train, cv = 10)\n",
    "scr_mean_train = dtcv_scores.mean()\n",
    "\n",
    "print(\"Mean Cross Validation score on Trainin Set: \",scr_mean_train)\n",
    "\n",
    "scr_test = dtreefit.score(Features_test, Target_test)\n",
    "\n",
    "print(\" score on Test Set: \"scr_test)\n",
    "\n",
    "\n",
    "# R2 on the test Set \n",
    "r2_score_test = r2_score(Target_test, pred_test)\n",
    "\n",
    "print(\" R2 Score test \",r2_score_test)\n",
    "\n"
   ]
  },
  {
   "cell_type": "code",
   "execution_count": null,
   "metadata": {
    "collapsed": true
   },
   "outputs": [],
   "source": []
  }
 ],
 "metadata": {
  "kernelspec": {
   "display_name": "Python 3",
   "language": "python",
   "name": "python3"
  },
  "language_info": {
   "codemirror_mode": {
    "name": "ipython",
    "version": 3
   },
   "file_extension": ".py",
   "mimetype": "text/x-python",
   "name": "python",
   "nbconvert_exporter": "python",
   "pygments_lexer": "ipython3",
   "version": "3.6.2"
  }
 },
 "nbformat": 4,
 "nbformat_minor": 2
}
